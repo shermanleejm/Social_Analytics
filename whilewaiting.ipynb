{
 "nbformat": 4,
 "nbformat_minor": 2,
 "metadata": {
  "language_info": {
   "name": "python",
   "codemirror_mode": {
    "name": "ipython",
    "version": 3
   },
   "version": "3.7.3-final"
  },
  "orig_nbformat": 2,
  "file_extension": ".py",
  "mimetype": "text/x-python",
  "name": "python",
  "npconvert_exporter": "python",
  "pygments_lexer": "ipython3",
  "version": 3,
  "kernelspec": {
   "name": "python37364bitf7dc2741bafe4a9b89002a7641fa85c3",
   "display_name": "Python 3.7.3 64-bit"
  }
 },
 "cells": [
  {
   "cell_type": "code",
   "execution_count": 5,
   "metadata": {},
   "outputs": [],
   "source": [
    "import pandas as pd \n",
    "import json\n",
    "import numpy as np \n",
    "import matplotlib.pyplot as plt \n",
    "from vaderSentiment.vaderSentiment import SentimentIntensityAnalyzer\n",
    "from sklearn.feature_extraction.text import TfidfVectorizer\n",
    "import nltk\n",
    "from nltk.corpus import stopwords\n",
    "swords = set(stopwords.words('english'))"
   ]
  },
  {
   "cell_type": "code",
   "execution_count": 16,
   "metadata": {},
   "outputs": [
    {
     "output_type": "execute_result",
     "data": {
      "text/plain": "                    name                                            message  \\\n39924         Maplestori  Next time order 鱼柳包，then say 给我鸡胸肉 = no bone a...   \n39925           is_10yrs                You want filet-o-fish.... boneless?   \n39926            zesponk                   are we even sure its fish bones?   \n39927          prime5119                                                鱼胸肉   \n39928  7_92x57_mm_Mauser                             Could be plastic bones   \n\n                 timestamp  \n39924  2020-03-08 10:03:59  \n39925  2020-03-08 09:59:43  \n39926  2020-03-08 00:53:08  \n39927  2020-03-08 10:06:36  \n39928  2020-03-08 00:55:01  ",
      "text/html": "<div>\n<style scoped>\n    .dataframe tbody tr th:only-of-type {\n        vertical-align: middle;\n    }\n\n    .dataframe tbody tr th {\n        vertical-align: top;\n    }\n\n    .dataframe thead th {\n        text-align: right;\n    }\n</style>\n<table border=\"1\" class=\"dataframe\">\n  <thead>\n    <tr style=\"text-align: right;\">\n      <th></th>\n      <th>name</th>\n      <th>message</th>\n      <th>timestamp</th>\n    </tr>\n  </thead>\n  <tbody>\n    <tr>\n      <th>39924</th>\n      <td>Maplestori</td>\n      <td>Next time order 鱼柳包，then say 给我鸡胸肉 = no bone a...</td>\n      <td>2020-03-08 10:03:59</td>\n    </tr>\n    <tr>\n      <th>39925</th>\n      <td>is_10yrs</td>\n      <td>You want filet-o-fish.... boneless?</td>\n      <td>2020-03-08 09:59:43</td>\n    </tr>\n    <tr>\n      <th>39926</th>\n      <td>zesponk</td>\n      <td>are we even sure its fish bones?</td>\n      <td>2020-03-08 00:53:08</td>\n    </tr>\n    <tr>\n      <th>39927</th>\n      <td>prime5119</td>\n      <td>鱼胸肉</td>\n      <td>2020-03-08 10:06:36</td>\n    </tr>\n    <tr>\n      <th>39928</th>\n      <td>7_92x57_mm_Mauser</td>\n      <td>Could be plastic bones</td>\n      <td>2020-03-08 00:55:01</td>\n    </tr>\n  </tbody>\n</table>\n</div>"
     },
     "metadata": {},
     "execution_count": 16
    }
   ],
   "source": [
    "df = pd.read_json(\"./data/data71.json\")\n",
    "df1 = pd.read_json(\"./data/data70.json\")\n",
    "\n",
    "df = pd.concat([df, df1])\n",
    "df.tail()"
   ]
  },
  {
   "cell_type": "code",
   "execution_count": 76,
   "metadata": {},
   "outputs": [
    {
     "output_type": "execute_result",
     "data": {
      "text/plain": "'\\nThe Positive, Negative and Neutral scores represent the proportion of text that falls in these categories. \\nThis means our sentence was rated as 67% Positive, 33% Neutral and 0% Negative. Hence all these should add up to 1.\\nThe Compound score is a metric that calculates the sum of all the lexicon ratings \\nwhich have been normalized between -1(most extreme negative) and +1 (most extreme positive).\\n'"
     },
     "metadata": {},
     "execution_count": 76
    }
   ],
   "source": [
    "universities = [\n",
    "    \"Singapore Management University|smu\",\n",
    "    \"nanyang technological university|ntu\",\n",
    "    \"National University of Singapore|nus\",\n",
    "    \"Singapore University of Technology and Design|sutd\"\n",
    "]\n",
    "\n",
    "infoSys = \"information systems|it|information technology|data analytics|computer science|com|computer|info systems|info sys\"\n",
    "simplifiedInfoSys = \"computer|com|infosys|information systems|analytics\"\n",
    "simplifiedJC = \"rank|a-level|a level|\"\n",
    "\n",
    "polyjc = []\n",
    "with open(\"./data/polyjc.txt\", \"r\") as f:\n",
    "    for line in f:\n",
    "        polyjc.append(line.strip()) \n",
    "\n",
    "def getScore(sentence): # return dict, e.g. --> {'neg': 0.0, 'neu': 0.326, 'pos': 0.674, 'compound': 0.7351}\n",
    "    analyser = SentimentIntensityAnalyzer()\n",
    "    return analyser.polarity_scores(sentence)\n",
    "\n",
    "def writeFile(filepath, header, uni, startYear, endYear, queryRegexArray, domain=\"\"):\n",
    "    df = pd.read_json(\"./data/data71.json\")\n",
    "    # df1 = pd.read_json(\"./data/data70.json\")\n",
    "    # df = pd.concat([df, df1])\n",
    "\n",
    "    f = open(filepath, \"w+\")\n",
    "    f.write(header)\n",
    "    for year in range(startYear, endYear + 1):\n",
    "        dfYear = df[df[\"timestamp\"].str.contains(str(year))]\n",
    "        yearStr = str(year)\n",
    "        for term in queryRegexArray:\n",
    "            if domain != \"\" :\n",
    "                term += \"|\" + domain\n",
    "            listOfComments = dfYear[ dfYear[\"message\"].str.contains(term, case=False) & dfYear[\"message\"].str.contains(uni, case=False)][\"message\"].values.tolist()\n",
    "            score = 0\n",
    "            numOfComments = len(listOfComments) \n",
    "            for comment in listOfComments:\n",
    "                score += getScore(comment)[\"compound\"]\n",
    "            overallScore = 0\n",
    "            if numOfComments != 0:\n",
    "                overallScore = score / numOfComments\n",
    "            yearStr += \",\" + str(overallScore)\n",
    "        f.write(yearStr)\n",
    "        f.write(\"\\n\")\n",
    "    f.close()\n",
    "\n",
    "def getWeightiestSentences(filepath, header, uni, startYear, endYear, queryRegexArray, numOfSentences, domain=\"\"):\n",
    "    df = pd.read_json(\"./data/data70.json\")\n",
    "    df1 = pd.read_json(\"./data/data71.json\")\n",
    "    df = pd.concat([df, df1])\n",
    "\n",
    "    f = open(filepath, \"w+\")\n",
    "    f.write(header)\n",
    "\n",
    "    for year in range(startYear, endYear + 1):\n",
    "        dfYear = df[df[\"timestamp\"].str.contains(str(year), na=False)]\n",
    "        for term in queryRegexArray:\n",
    "            if domain != \"\":\n",
    "                term = term + \"|\" + domain\n",
    "            listOfComments = dfYear[ dfYear[\"message\"].str.contains(term, case=False) & dfYear[\"message\"].str.contains(uni, case=False) ][\"message\"].values.tolist()\n",
    "\n",
    "            vectorizer = TfidfVectorizer(stop_words=swords)\n",
    "\n",
    "            X = vectorizer.fit_transform(listOfComments)\n",
    "\n",
    "            feature_names = vectorizer.get_feature_names()\n",
    "\n",
    "            vocab = vectorizer.vocabulary_\n",
    "\n",
    "            unsorted_result = {}\n",
    "\n",
    "            for i in range(len(list(X.toarray()))) :\n",
    "                row = list(list(X.toarray())[i])\n",
    "                unsorted_result[listOfComments[i]] = sum(row)\n",
    "            \n",
    "            result = pd.DataFrame()\n",
    "            result[\"sentence\"] = unsorted_result.keys()\n",
    "            result[\"value\"] = unsorted_result.values()\n",
    "            return (result.sort([\"value\"]))\n",
    "\n",
    "'''\n",
    "The Positive, Negative and Neutral scores represent the proportion of text that falls in these categories. \n",
    "This means our sentence was rated as 67% Positive, 33% Neutral and 0% Negative. Hence all these should add up to 1.\n",
    "The Compound score is a metric that calculates the sum of all the lexicon ratings \n",
    "which have been normalized between -1(most extreme negative) and +1 (most extreme positive).\n",
    "'''\n",
    ""
   ]
  },
  {
   "cell_type": "code",
   "execution_count": 77,
   "metadata": {
    "tags": [
     "outputPrepend"
    ]
   },
   "outputs": [
    {
     "output_type": "error",
     "ename": "AttributeError",
     "evalue": "'DataFrame' object has no attribute 'sort'",
     "traceback": [
      "\u001b[0;31m---------------------------------------------------------------------------\u001b[0m",
      "\u001b[0;31mAttributeError\u001b[0m                            Traceback (most recent call last)",
      "\u001b[0;32m<ipython-input-77-c897b8098f23>\u001b[0m in \u001b[0;36m<module>\u001b[0;34m\u001b[0m\n\u001b[1;32m      7\u001b[0m \u001b[0mnum\u001b[0m \u001b[0;34m=\u001b[0m \u001b[0;36m10\u001b[0m\u001b[0;34m\u001b[0m\u001b[0;34m\u001b[0m\u001b[0m\n\u001b[1;32m      8\u001b[0m \u001b[0;34m\u001b[0m\u001b[0m\n\u001b[0;32m----> 9\u001b[0;31m \u001b[0mdf\u001b[0m \u001b[0;34m=\u001b[0m \u001b[0mgetWeightiestSentences\u001b[0m\u001b[0;34m(\u001b[0m\u001b[0mfilepath\u001b[0m\u001b[0;34m,\u001b[0m \u001b[0mheader\u001b[0m\u001b[0;34m,\u001b[0m \u001b[0muni\u001b[0m\u001b[0;34m,\u001b[0m \u001b[0mstart\u001b[0m\u001b[0;34m,\u001b[0m \u001b[0mend\u001b[0m\u001b[0;34m,\u001b[0m \u001b[0marr\u001b[0m\u001b[0;34m,\u001b[0m \u001b[0mnum\u001b[0m\u001b[0;34m)\u001b[0m\u001b[0;34m\u001b[0m\u001b[0;34m\u001b[0m\u001b[0m\n\u001b[0m",
      "\u001b[0;32m<ipython-input-76-96557bc1c857>\u001b[0m in \u001b[0;36mgetWeightiestSentences\u001b[0;34m(filepath, header, uni, startYear, endYear, queryRegexArray, numOfSentences, domain)\u001b[0m\n\u001b[1;32m     77\u001b[0m             \u001b[0mresult\u001b[0m\u001b[0;34m[\u001b[0m\u001b[0;34m\"sentence\"\u001b[0m\u001b[0;34m]\u001b[0m \u001b[0;34m=\u001b[0m \u001b[0munsorted_result\u001b[0m\u001b[0;34m.\u001b[0m\u001b[0mkeys\u001b[0m\u001b[0;34m(\u001b[0m\u001b[0;34m)\u001b[0m\u001b[0;34m\u001b[0m\u001b[0;34m\u001b[0m\u001b[0m\n\u001b[1;32m     78\u001b[0m             \u001b[0mresult\u001b[0m\u001b[0;34m[\u001b[0m\u001b[0;34m\"value\"\u001b[0m\u001b[0;34m]\u001b[0m \u001b[0;34m=\u001b[0m \u001b[0munsorted_result\u001b[0m\u001b[0;34m.\u001b[0m\u001b[0mvalues\u001b[0m\u001b[0;34m(\u001b[0m\u001b[0;34m)\u001b[0m\u001b[0;34m\u001b[0m\u001b[0;34m\u001b[0m\u001b[0m\n\u001b[0;32m---> 79\u001b[0;31m             \u001b[0;32mreturn\u001b[0m \u001b[0;34m(\u001b[0m\u001b[0mresult\u001b[0m\u001b[0;34m.\u001b[0m\u001b[0msort\u001b[0m\u001b[0;34m(\u001b[0m\u001b[0;34m[\u001b[0m\u001b[0;34m\"value\"\u001b[0m\u001b[0;34m]\u001b[0m\u001b[0;34m)\u001b[0m\u001b[0;34m)\u001b[0m\u001b[0;34m\u001b[0m\u001b[0;34m\u001b[0m\u001b[0m\n\u001b[0m\u001b[1;32m     80\u001b[0m \u001b[0;34m\u001b[0m\u001b[0m\n\u001b[1;32m     81\u001b[0m '''\n",
      "\u001b[0;32m/Library/Frameworks/Python.framework/Versions/3.7/lib/python3.7/site-packages/pandas/core/generic.py\u001b[0m in \u001b[0;36m__getattr__\u001b[0;34m(self, name)\u001b[0m\n\u001b[1;32m   5272\u001b[0m             \u001b[0;32mif\u001b[0m \u001b[0mself\u001b[0m\u001b[0;34m.\u001b[0m\u001b[0m_info_axis\u001b[0m\u001b[0;34m.\u001b[0m\u001b[0m_can_hold_identifiers_and_holds_name\u001b[0m\u001b[0;34m(\u001b[0m\u001b[0mname\u001b[0m\u001b[0;34m)\u001b[0m\u001b[0;34m:\u001b[0m\u001b[0;34m\u001b[0m\u001b[0;34m\u001b[0m\u001b[0m\n\u001b[1;32m   5273\u001b[0m                 \u001b[0;32mreturn\u001b[0m \u001b[0mself\u001b[0m\u001b[0;34m[\u001b[0m\u001b[0mname\u001b[0m\u001b[0;34m]\u001b[0m\u001b[0;34m\u001b[0m\u001b[0;34m\u001b[0m\u001b[0m\n\u001b[0;32m-> 5274\u001b[0;31m             \u001b[0;32mreturn\u001b[0m \u001b[0mobject\u001b[0m\u001b[0;34m.\u001b[0m\u001b[0m__getattribute__\u001b[0m\u001b[0;34m(\u001b[0m\u001b[0mself\u001b[0m\u001b[0;34m,\u001b[0m \u001b[0mname\u001b[0m\u001b[0;34m)\u001b[0m\u001b[0;34m\u001b[0m\u001b[0;34m\u001b[0m\u001b[0m\n\u001b[0m\u001b[1;32m   5275\u001b[0m \u001b[0;34m\u001b[0m\u001b[0m\n\u001b[1;32m   5276\u001b[0m     \u001b[0;32mdef\u001b[0m \u001b[0m__setattr__\u001b[0m\u001b[0;34m(\u001b[0m\u001b[0mself\u001b[0m\u001b[0;34m,\u001b[0m \u001b[0mname\u001b[0m\u001b[0;34m:\u001b[0m \u001b[0mstr\u001b[0m\u001b[0;34m,\u001b[0m \u001b[0mvalue\u001b[0m\u001b[0;34m)\u001b[0m \u001b[0;34m->\u001b[0m \u001b[0;32mNone\u001b[0m\u001b[0;34m:\u001b[0m\u001b[0;34m\u001b[0m\u001b[0;34m\u001b[0m\u001b[0m\n",
      "\u001b[0;31mAttributeError\u001b[0m: 'DataFrame' object has no attribute 'sort'"
     ]
    }
   ],
   "source": [
    "filepath = \"./temp.csv\"\n",
    "header = \"year,school,sentence\\n\"\n",
    "uni = \"Singapore Management University|smu\"\n",
    "start = 2014\n",
    "end = 2014\n",
    "arr = [simplifiedInfoSys]\n",
    "num = 10\n",
    "\n",
    "df = getWeightiestSentences(filepath, header, uni, start, end, arr, num)"
   ]
  },
  {
   "cell_type": "code",
   "execution_count": null,
   "metadata": {},
   "outputs": [],
   "source": []
  }
 ]
}