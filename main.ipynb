{
 "nbformat": 4,
 "nbformat_minor": 2,
 "metadata": {
  "language_info": {
   "name": "python",
   "codemirror_mode": {
    "name": "ipython",
    "version": 3
   },
   "version": "3.7.3-final"
  },
  "orig_nbformat": 2,
  "file_extension": ".py",
  "mimetype": "text/x-python",
  "name": "python",
  "npconvert_exporter": "python",
  "pygments_lexer": "ipython3",
  "version": 3,
  "kernelspec": {
   "name": "python37364bitf7dc2741bafe4a9b89002a7641fa85c3",
   "display_name": "Python 3.7.3 64-bit"
  }
 },
 "cells": [
  {
   "cell_type": "code",
   "execution_count": 7,
   "metadata": {},
   "outputs": [],
   "source": [
    "import pandas as pd \n",
    "import json\n",
    "import numpy as np \n",
    "import matplotlib.pyplot as plt \n",
    "from vaderSentiment.vaderSentiment import SentimentIntensityAnalyzer\n",
    "from sklearn.feature_extraction.text import TfidfVectorizer\n",
    "import nltk\n",
    "from nltk.corpus import stopwords\n",
    "swords = set(stopwords.words('english'))"
   ]
  },
  {
   "cell_type": "code",
   "execution_count": 3,
   "metadata": {},
   "outputs": [
    {
     "output_type": "stream",
     "name": "stdout",
     "text": "<class 'pandas.core.frame.DataFrame'>\nInt64Index: 82417 entries, 0 to 39928\nData columns (total 3 columns):\n #   Column     Non-Null Count  Dtype \n---  ------     --------------  ----- \n 0   name       82417 non-null  object\n 1   message    82417 non-null  object\n 2   timestamp  82417 non-null  object\ndtypes: object(3)\nmemory usage: 2.5+ MB\n"
    }
   ],
   "source": [
    "df = pd.read_json(\"./data/data71.json\")\n",
    "df1 = pd.read_json(\"./data/data70.json\")\n",
    "\n",
    "df = pd.concat([df, df1])\n",
    "df.info()"
   ]
  },
  {
   "cell_type": "code",
   "execution_count": 4,
   "metadata": {},
   "outputs": [
    {
     "output_type": "execute_result",
     "data": {
      "text/plain": "'\\nThe Positive, Negative and Neutral scores represent the proportion of text that falls in these categories. \\nThis means our sentence was rated as 67% Positive, 33% Neutral and 0% Negative. Hence all these should add up to 1.\\nThe Compound score is a metric that calculates the sum of all the lexicon ratings \\nwhich have been normalized between -1(most extreme negative) and +1 (most extreme positive).\\n'"
     },
     "metadata": {},
     "execution_count": 4
    }
   ],
   "source": [
    "universities = [\n",
    "    \"Singapore Management University|smu\",\n",
    "    \"nanyang technological university|ntu\",\n",
    "    \"National University of Singapore|nus\",\n",
    "    \"Singapore University of Technology and Design|sutd\"\n",
    "]\n",
    "\n",
    "infoSys = \"information systems|it|information technology|data analytics|computer science|com|computer|info systems|info sys\"\n",
    "simplifiedInfoSys = \"computer|com|infosys|information systems|analytics\"\n",
    "simplifiedJC = \"rank|a-level|a level|\"\n",
    "\n",
    "polyjc = []\n",
    "with open(\"./data/polyjc.txt\", \"r\") as f:\n",
    "    for line in f:\n",
    "        polyjc.append(line.strip()) \n",
    "\n",
    "def getScore(sentence): # return dict, e.g. --> {'neg': 0.0, 'neu': 0.326, 'pos': 0.674, 'compound': 0.7351}\n",
    "    analyser = SentimentIntensityAnalyzer()\n",
    "    return analyser.polarity_scores(sentence)\n",
    "\n",
    "def writeFile(filepath, header, uni, startYear, endYear, queryRegexArray, domain=\"\"):\n",
    "    df = pd.read_json(\"./data/data71.json\")\n",
    "    # df1 = pd.read_json(\"./data/data70.json\")\n",
    "    # df = pd.concat([df, df1])\n",
    "\n",
    "    f = open(filepath, \"w+\")\n",
    "    f.write(header)\n",
    "    for year in range(startYear, endYear + 1):\n",
    "        dfYear = df[df[\"timestamp\"].str.contains(str(year))]\n",
    "        yearStr = str(year)\n",
    "        for term in queryRegexArray:\n",
    "            if domain != \"\" :\n",
    "                term += \"|\" + domain\n",
    "            listOfComments = dfYear[ dfYear[\"message\"].str.contains(term, case=False) & dfYear[\"message\"].str.contains(uni, case=False)][\"message\"].values.tolist()\n",
    "            score = 0\n",
    "            numOfComments = len(listOfComments) \n",
    "            for comment in listOfComments:\n",
    "                score += getScore(comment)[\"compound\"]\n",
    "            overallScore = 0\n",
    "            if numOfComments != 0:\n",
    "                overallScore = score / numOfComments\n",
    "            yearStr += \",\" + str(overallScore)\n",
    "        f.write(yearStr)\n",
    "        f.write(\"\\n\")\n",
    "    f.close()\n",
    "\n",
    "def getWeightiestSentences(filepath, header, uni, startYear, endYear, queryRegexArray, numOfSentences, domain=\"\"):\n",
    "    df = pd.read_json(\"./data/data70.json\")\n",
    "    df1 = pd.read_json(\"./data/data71.json\")\n",
    "    df = pd.concat([df, df1])\n",
    "\n",
    "    f = open(filepath, \"w+\")\n",
    "    f.write(header)\n",
    "\n",
    "    for year in range(startYear, endYear + 1):\n",
    "        dfYear = df[df[\"timestamp\"].str.contains(str(year))]\n",
    "        for term in queryRegexArray:\n",
    "            if domain != \"\":\n",
    "                term = term + \"|\" + domain\n",
    "            listOfComments = dfYear[ dfYear[\"message\"].str.contains(term, case=False) & dfYear[\"message\"].str.contains(uni, case=False) ][\"message\"].values.tolist()\n",
    "            vectorizer = TfidfVectorizer()\n",
    "            X = vectorizer.fit_transform(listOfComments)\n",
    "            temp_feature_names = vectorizer.get_feature_names()\n",
    "            stop_words = vectorizer.get_stop_words()\n",
    "            feature_names = []\n",
    "            for word in temp_feature_names:\n",
    "                if word not in stop_words:\n",
    "                    feature_names.append\n",
    "\n",
    "'''\n",
    "The Positive, Negative and Neutral scores represent the proportion of text that falls in these categories. \n",
    "This means our sentence was rated as 67% Positive, 33% Neutral and 0% Negative. Hence all these should add up to 1.\n",
    "The Compound score is a metric that calculates the sum of all the lexicon ratings \n",
    "which have been normalized between -1(most extreme negative) and +1 (most extreme positive).\n",
    "'''\n",
    ""
   ]
  },
  {
   "cell_type": "code",
   "execution_count": null,
   "metadata": {},
   "outputs": [],
   "source": [
    "\"\"\"\n",
    "Diagram of result dataframe\n",
    "+------+--------+--------+-----+------+----\n",
    "| Year |   NP   |   SP   | ... | ACJC | ... \n",
    "+------+--------+--------+-----+------+----\n",
    "| 2014 | 0.9872 | -0.023 | ... | 0.33 | ...\n",
    "\"\"\""
   ]
  },
  {
   "cell_type": "code",
   "execution_count": 5,
   "metadata": {
    "tags": [
     "outputPrepend",
     "outputPrepend"
    ]
   },
   "outputs": [],
   "source": [
    "# poly\n",
    "for uni in universities:\n",
    "    uniName = uni.split(\"|\")[-1]\n",
    "    pathname = f\"./output/{uniName} - poly.csv\"\n",
    "    header = \"year\"\n",
    "    polys = []\n",
    "    for sch in polyjc[:5]:\n",
    "        header += \",\" + sch.split(\"|\")[-1]\n",
    "        polys.append(sch)\n",
    "    header += \"\\n\"\n",
    "\n",
    "    writeFile(pathname, header, uni, 2014, 2020, polys, simplifiedInfoSys)"
   ]
  },
  {
   "cell_type": "code",
   "execution_count": 6,
   "metadata": {},
   "outputs": [],
   "source": [
    "#JC\n",
    "for uni in universities:\n",
    "    uniName = uni.split(\"|\")[-1]\n",
    "    pathname = f\"./output/{uniName} - jc.csv\"\n",
    "    header = \"year\"\n",
    "    schools = []\n",
    "    for sch in polyjc[5:]:\n",
    "        header += \",\" + sch.split(\"|\")[-1]\n",
    "        schools.append(sch)\n",
    "    header += \"\\n\"\n",
    "\n",
    "    writeFile(pathname, header, uni, 2014, 2020, schools, simplifiedInfoSys)"
   ]
  },
  {
   "cell_type": "code",
   "execution_count": 8,
   "metadata": {},
   "outputs": [],
   "source": [
    "#JC Overall\n",
    "for uni in universities:\n",
    "    uniName = uni.split(\"|\")[-1]\n",
    "    pathname = f\"./output/{uniName} - JC (Overall).csv\"\n",
    "    header = \"year,score\\n\"\n",
    "\n",
    "    writeFile(pathname, header, uni, 2014, 2020, [\"jc\"], simplifiedInfoSys)"
   ]
  },
  {
   "cell_type": "code",
   "execution_count": null,
   "metadata": {},
   "outputs": [],
   "source": [
    "# IS Related Courses - for all uni\n",
    "timents for all uni (IS).csv\", \"w+\")\n",
    "f.write(\"year,smu,ntu,nus,sutd\\n\")\n",
    "\n",
    "for year in range(2014, 2022):\n",
    "    yearStr = str(year)\n",
    "    for uni in universities:\n",
    "        listOfComments = df[ df[\"message\"].str.lower().str.contains(uni) & df[\"timestamp\"].str.contains(str(year)) & df[\"message\"].str.lower().str.contains(infoSys) ][\"message\"].values.tolist()\n",
    "        score = 0\n",
    "        numOfComments = len(listOfComments) \n",
    "        for comment in listOfComments:\n",
    "            score += getScore(comment)[\"compound\"]\n",
    "\n",
    "        if numOfComments == 0:\n",
    "            overallScore = 0\n",
    "        else:\n",
    "            overallScore = score / numOfComments\n",
    "        yearStr += \",\" + str(overallScore)\n",
    "    f.write(yearStr)\n",
    "    f.write(\"\\n\")\n",
    "f.close()"
   ]
  },
  {
   "cell_type": "code",
   "execution_count": null,
   "metadata": {},
   "outputs": [],
   "source": [
    "filepath = \"./temp.csv\"\n",
    "header = \"year,school,sentence\\n\"\n",
    "uni = \"Singapore Management University|smu\"\n",
    "start = 2014\n",
    "end = 2014\n",
    "arr = [simplifiedInfoSys]\n",
    "num = 10\n",
    "\n",
    "getWeightiestSentences(filepath, header, uni, start, end, arr, num)"
   ]
  },
  {
   "cell_type": "code",
   "execution_count": null,
   "metadata": {},
   "outputs": [],
   "source": [
    "dfYear = df[df[\"timestamp\"].str.contains(\"2018\")]"
   ]
  },
  {
   "cell_type": "code",
   "execution_count": null,
   "metadata": {},
   "outputs": [],
   "source": []
  }
 ]
}