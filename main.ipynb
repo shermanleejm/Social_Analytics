{
 "nbformat": 4,
 "nbformat_minor": 2,
 "metadata": {
  "language_info": {
   "name": "python",
   "codemirror_mode": {
    "name": "ipython",
    "version": 3
   },
   "version": "3.7.3-final"
  },
  "orig_nbformat": 2,
  "file_extension": ".py",
  "mimetype": "text/x-python",
  "name": "python",
  "npconvert_exporter": "python",
  "pygments_lexer": "ipython3",
  "version": 3,
  "kernelspec": {
   "name": "python37364bitf7dc2741bafe4a9b89002a7641fa85c3",
   "display_name": "Python 3.7.3 64-bit"
  }
 },
 "cells": [
  {
   "cell_type": "code",
   "execution_count": 1,
   "metadata": {},
   "outputs": [],
   "source": [
    "import pandas as pd \n",
    "import json\n",
    "import numpy as np \n",
    "import matplotlib.pyplot as plt \n",
    "from vaderSentiment.vaderSentiment import SentimentIntensityAnalyzer\n",
    "from sklearn.feature_extraction.text import TfidfVectorizer\n",
    "import nltk\n",
    "from nltk.corpus import stopwords\n",
    "swords = set(stopwords.words('english'))"
   ]
  },
  {
   "cell_type": "code",
   "execution_count": 2,
   "metadata": {},
   "outputs": [
    {
     "output_type": "stream",
     "name": "stdout",
     "text": "<class 'pandas.core.frame.DataFrame'>\nInt64Index: 82417 entries, 0 to 39928\nData columns (total 3 columns):\n #   Column     Non-Null Count  Dtype \n---  ------     --------------  ----- \n 0   name       82417 non-null  object\n 1   message    82417 non-null  object\n 2   timestamp  82417 non-null  object\ndtypes: object(3)\nmemory usage: 2.5+ MB\n"
    }
   ],
   "source": [
    "df = pd.read_json(\"./data/data71.json\")\n",
    "df1 = pd.read_json(\"./data/data70.json\")\n",
    "\n",
    "df = pd.concat([df, df1])\n",
    "df.info()"
   ]
  },
  {
   "cell_type": "code",
   "execution_count": 14,
   "metadata": {},
   "outputs": [],
   "source": [
    "universities = [\n",
    "    \"Singapore Management University|smu\",\n",
    "    \"nanyang technological university|ntu\",\n",
    "    \"National University of Singapore|nus\",\n",
    "    \"Singapore University of Technology and Design|sutd\"\n",
    "]\n",
    "\n",
    "keywords = []\n",
    "with open(\"./data/keywords.txt\", \"r\") as f:\n",
    "    for line in f:\n",
    "        keywords.append(line.strip())\n",
    "\n",
    "infoSys = \"information systems|it|information technology|data analytics|computer science|com|computer|info systems|info sys\"\n",
    "simplifiedInfoSys = \"computer|com|infosys|information systems|analytics\"\n",
    "simplifiedJC = \"rank|a-level|a level|\"\n",
    "\n",
    "polyjc = []\n",
    "with open(\"./data/polyjc.txt\", \"r\") as f:\n",
    "    for line in f:\n",
    "        polyjc.append(line.strip()) \n",
    "\n",
    "'''\n",
    "The Positive, Negative and Neutral scores represent the proportion of text that falls in these categories. \n",
    "This means our sentence was rated as 67% Positive, 33% Neutral and 0% Negative. Hence all these should add up to 1.\n",
    "The Compound score is a metric that calculates the sum of all the lexicon ratings \n",
    "which have been normalized between -1(most extreme negative) and +1 (most extreme positive).\n",
    "'''\n",
    "\n",
    "def getScore(sentence): # return dict, e.g. --> {'neg': 0.0, 'neu': 0.326, 'pos': 0.674, 'compound': 0.7351}\n",
    "    analyser = SentimentIntensityAnalyzer()\n",
    "    return analyser.polarity_scores(sentence)\n",
    "\n",
    "def writeFile(filepath, header, uni, startYear, endYear, queryRegexArray, domain=\"\"):\n",
    "    df = pd.read_json(\"./data/data71.json\")\n",
    "    # df1 = pd.read_json(\"./data/data70.json\")\n",
    "    # df = pd.concat([df, df1])\n",
    "\n",
    "    f = open(filepath, \"w+\")\n",
    "    f.write(header)\n",
    "    for year in range(startYear, endYear + 1):\n",
    "        dfYear = df[df[\"timestamp\"].str.contains(str(year))]\n",
    "        yearStr = str(year)\n",
    "        for term in queryRegexArray:\n",
    "            if domain != \"\" :\n",
    "                term += \"|\" + domain\n",
    "            listOfComments = dfYear[ dfYear[\"message\"].str.contains(term, case=False) & dfYear[\"message\"].str.contains(uni, case=False)][\"message\"].values.tolist()\n",
    "            score = 0\n",
    "            numOfComments = len(listOfComments) \n",
    "            for comment in listOfComments:\n",
    "                score += getScore(comment)[\"compound\"]\n",
    "            overallScore = 0\n",
    "            if numOfComments != 0:\n",
    "                overallScore = score / numOfComments\n",
    "            yearStr += \",\" + str(overallScore)\n",
    "        f.write(yearStr)\n",
    "        f.write(\"\\n\")\n",
    "    f.close()\n",
    "\n",
    "def printWeightiestSentences(filepath, header, uni, startYear, endYear, queryRegexArray, numOfSentences, domain=\"\"):\n",
    "    df = pd.read_json(\"./data/data70.json\")\n",
    "    df1 = pd.read_json(\"./data/data71.json\")\n",
    "    df = pd.concat([df, df1])\n",
    "\n",
    "    f = open(filepath, \"w+\")\n",
    "    f.write(header)\n",
    "\n",
    "    for year in range(startYear, endYear + 1):\n",
    "        df = pd.read_json(\"./data/data70.json\")\n",
    "        df1 = pd.read_json(\"./data/data71.json\")\n",
    "        df = pd.concat([df, df1])\n",
    "        yearStr = str(year)\n",
    "        dfYear = df[df[\"timestamp\"].str.contains(yearStr, na=False)]\n",
    "        for term in queryRegexArray:\n",
    "            if domain != \"\":\n",
    "                term = term + \"|\" + domain\n",
    "            listOfComments = dfYear[ dfYear[\"message\"].str.contains(term, case=False, na=False) & dfYear[\"message\"].str.contains(uni, case=False, na=False) ][\"message\"].values.tolist()\n",
    "\n",
    "            vectorizer = TfidfVectorizer(stop_words=swords)\n",
    "\n",
    "            X = vectorizer.fit_transform(listOfComments)\n",
    "\n",
    "            feature_names = vectorizer.get_feature_names()\n",
    "\n",
    "            vocab = vectorizer.vocabulary_\n",
    "\n",
    "            unsorted_result = {}\n",
    "\n",
    "            for i in range(len(list(X.toarray()))) :\n",
    "                row = list(list(X.toarray())[i])\n",
    "                unsorted_result[listOfComments[i]] = sum(row)\n",
    "            \n",
    "            result = pd.DataFrame()\n",
    "            result[\"sentence\"] = unsorted_result.keys()\n",
    "            result[\"value\"] = unsorted_result.values()\n",
    "            df = result.sort_values(by=[\"value\"], ascending=False)\n",
    "            top10sentences = df.nlargest(num, \"value\")[\"sentence\"].tolist()\n",
    "            top10values = df.nlargest(num, \"value\")[\"value\"].tolist()\n",
    "            for i in range(num):\n",
    "                line = str(year) + \",\" + uni + \",\" + term + \",\\\"\" + top10sentences[i] + \"\\\",\" + str(top10values[i]) + \"\\n\"\n",
    "                f.write(line)\n",
    "                \n",
    "    f.close()"
   ]
  },
  {
   "cell_type": "code",
   "execution_count": null,
   "metadata": {},
   "outputs": [],
   "source": [
    "\"\"\"\n",
    "Diagram of result dataframe\n",
    "+------+--------+--------+-----+------+----\n",
    "| Year |   NP   |   SP   | ... | ACJC | ... \n",
    "+------+--------+--------+-----+------+----\n",
    "| 2014 | 0.9872 | -0.023 | ... | 0.33 | ...\n",
    "\"\"\""
   ]
  },
  {
   "cell_type": "code",
   "execution_count": 5,
   "metadata": {
    "tags": [
     "outputPrepend",
     "outputPrepend"
    ]
   },
   "outputs": [],
   "source": [
    "# poly\n",
    "for uni in universities:\n",
    "    uniName = uni.split(\"|\")[-1]\n",
    "    pathname = f\"./output/{uniName} - poly.csv\"\n",
    "    header = \"year\"\n",
    "    polys = []\n",
    "    for sch in polyjc[:5]:\n",
    "        header += \",\" + sch.split(\"|\")[-1]\n",
    "        polys.append(sch)\n",
    "    header += \"\\n\"\n",
    "\n",
    "    writeFile(pathname, header, uni, 2014, 2020, polys, simplifiedInfoSys)"
   ]
  },
  {
   "cell_type": "code",
   "execution_count": 6,
   "metadata": {},
   "outputs": [],
   "source": [
    "#JC\n",
    "for uni in universities:\n",
    "    uniName = uni.split(\"|\")[-1]\n",
    "    pathname = f\"./output/{uniName} - jc.csv\"\n",
    "    header = \"year\"\n",
    "    schools = []\n",
    "    for sch in polyjc[5:]:\n",
    "        header += \",\" + sch.split(\"|\")[-1]\n",
    "        schools.append(sch)\n",
    "    header += \"\\n\"\n",
    "\n",
    "    writeFile(pathname, header, uni, 2014, 2020, schools, simplifiedInfoSys)"
   ]
  },
  {
   "cell_type": "code",
   "execution_count": 8,
   "metadata": {},
   "outputs": [],
   "source": [
    "#JC Overall\n",
    "for uni in universities:\n",
    "    uniName = uni.split(\"|\")[-1]\n",
    "    pathname = f\"./output/{uniName} - JC (Overall).csv\"\n",
    "    header = \"year,score\\n\"\n",
    "\n",
    "    writeFile(pathname, header, uni, 2014, 2020, [\"interview|admissions|gpa\"], simplifiedInfoSys)"
   ]
  },
  {
   "cell_type": "code",
   "execution_count": null,
   "metadata": {},
   "outputs": [],
   "source": [
    "# IS Related Courses - for all uni\n",
    "timents for all uni (IS).csv\", \"w+\")\n",
    "f.write(\"year,smu,ntu,nus,sutd\\n\")\n",
    "\n",
    "for year in range(2014, 2022):\n",
    "    yearStr = str(year)\n",
    "    for uni in universities:\n",
    "        listOfComments = df[ df[\"message\"].str.lower().str.contains(uni) & df[\"timestamp\"].str.contains(str(year)) & df[\"message\"].str.lower().str.contains(infoSys) ][\"message\"].values.tolist()\n",
    "        score = 0\n",
    "        numOfComments = len(listOfComments) \n",
    "        for comment in listOfComments:\n",
    "            score += getScore(comment)[\"compound\"]\n",
    "\n",
    "        if numOfComments == 0:\n",
    "            overallScore = 0\n",
    "        else:\n",
    "            overallScore = score / numOfComments\n",
    "        yearStr += \",\" + str(overallScore)\n",
    "    f.write(yearStr)\n",
    "    f.write(\"\\n\")\n",
    "f.close()"
   ]
  },
  {
   "cell_type": "code",
   "execution_count": 9,
   "metadata": {},
   "outputs": [
    {
     "output_type": "error",
     "ename": "IndexError",
     "evalue": "list index out of range",
     "traceback": [
      "\u001b[0;31m---------------------------------------------------------------------------\u001b[0m",
      "\u001b[0;31mIndexError\u001b[0m                                Traceback (most recent call last)",
      "\u001b[0;32m<ipython-input-9-28133d27e143>\u001b[0m in \u001b[0;36m<module>\u001b[0;34m\u001b[0m\n\u001b[1;32m      7\u001b[0m \u001b[0mnum\u001b[0m \u001b[0;34m=\u001b[0m \u001b[0;36m10\u001b[0m\u001b[0;34m\u001b[0m\u001b[0;34m\u001b[0m\u001b[0m\n\u001b[1;32m      8\u001b[0m \u001b[0;34m\u001b[0m\u001b[0m\n\u001b[0;32m----> 9\u001b[0;31m \u001b[0mprintWeightiestSentences\u001b[0m\u001b[0;34m(\u001b[0m\u001b[0mfilepath\u001b[0m\u001b[0;34m,\u001b[0m \u001b[0mheader\u001b[0m\u001b[0;34m,\u001b[0m \u001b[0muni\u001b[0m\u001b[0;34m,\u001b[0m \u001b[0mstart\u001b[0m\u001b[0;34m,\u001b[0m \u001b[0mend\u001b[0m\u001b[0;34m,\u001b[0m \u001b[0marr\u001b[0m\u001b[0;34m,\u001b[0m \u001b[0mnum\u001b[0m\u001b[0;34m,\u001b[0m \u001b[0msimplifiedInfoSys\u001b[0m\u001b[0;34m)\u001b[0m\u001b[0;34m\u001b[0m\u001b[0;34m\u001b[0m\u001b[0m\n\u001b[0m",
      "\u001b[0;32m<ipython-input-8-38ccc1245bc0>\u001b[0m in \u001b[0;36mprintWeightiestSentences\u001b[0;34m(filepath, header, uni, startYear, endYear, queryRegexArray, numOfSentences, domain)\u001b[0m\n\u001b[1;32m     92\u001b[0m             \u001b[0mtop10values\u001b[0m \u001b[0;34m=\u001b[0m \u001b[0mdf\u001b[0m\u001b[0;34m.\u001b[0m\u001b[0mnlargest\u001b[0m\u001b[0;34m(\u001b[0m\u001b[0mnum\u001b[0m\u001b[0;34m,\u001b[0m \u001b[0;34m\"value\"\u001b[0m\u001b[0;34m)\u001b[0m\u001b[0;34m[\u001b[0m\u001b[0;34m\"value\"\u001b[0m\u001b[0;34m]\u001b[0m\u001b[0;34m.\u001b[0m\u001b[0mtolist\u001b[0m\u001b[0;34m(\u001b[0m\u001b[0;34m)\u001b[0m\u001b[0;34m\u001b[0m\u001b[0;34m\u001b[0m\u001b[0m\n\u001b[1;32m     93\u001b[0m             \u001b[0;32mfor\u001b[0m \u001b[0mi\u001b[0m \u001b[0;32min\u001b[0m \u001b[0mrange\u001b[0m\u001b[0;34m(\u001b[0m\u001b[0mnum\u001b[0m\u001b[0;34m)\u001b[0m\u001b[0;34m:\u001b[0m\u001b[0;34m\u001b[0m\u001b[0;34m\u001b[0m\u001b[0m\n\u001b[0;32m---> 94\u001b[0;31m                 \u001b[0mline\u001b[0m \u001b[0;34m=\u001b[0m \u001b[0mstr\u001b[0m\u001b[0;34m(\u001b[0m\u001b[0myear\u001b[0m\u001b[0;34m)\u001b[0m \u001b[0;34m+\u001b[0m \u001b[0;34m\",\"\u001b[0m \u001b[0;34m+\u001b[0m \u001b[0muni\u001b[0m \u001b[0;34m+\u001b[0m \u001b[0;34m\",\"\u001b[0m \u001b[0;34m+\u001b[0m \u001b[0mterm\u001b[0m \u001b[0;34m+\u001b[0m \u001b[0;34m\",\\\"\"\u001b[0m \u001b[0;34m+\u001b[0m \u001b[0mtop10sentences\u001b[0m\u001b[0;34m[\u001b[0m\u001b[0mi\u001b[0m\u001b[0;34m]\u001b[0m \u001b[0;34m+\u001b[0m \u001b[0;34m\"\\\",\"\u001b[0m \u001b[0;34m+\u001b[0m \u001b[0mstr\u001b[0m\u001b[0;34m(\u001b[0m\u001b[0mtop10values\u001b[0m\u001b[0;34m[\u001b[0m\u001b[0mi\u001b[0m\u001b[0;34m]\u001b[0m\u001b[0;34m)\u001b[0m \u001b[0;34m+\u001b[0m \u001b[0;34m\"\\n\"\u001b[0m\u001b[0;34m\u001b[0m\u001b[0;34m\u001b[0m\u001b[0m\n\u001b[0m\u001b[1;32m     95\u001b[0m                 \u001b[0mf\u001b[0m\u001b[0;34m.\u001b[0m\u001b[0mwrite\u001b[0m\u001b[0;34m(\u001b[0m\u001b[0mline\u001b[0m\u001b[0;34m)\u001b[0m\u001b[0;34m\u001b[0m\u001b[0;34m\u001b[0m\u001b[0m\n\u001b[1;32m     96\u001b[0m \u001b[0;34m\u001b[0m\u001b[0m\n",
      "\u001b[0;31mIndexError\u001b[0m: list index out of range"
     ]
    }
   ],
   "source": [
    "filepath = \"./output/tempWeightedSentences(1).csv\"\n",
    "header = \"year,uni,search term,sentence,tfidf value\\n\"\n",
    "uni = \"Singapore Management University|smu\"\n",
    "start = 2014\n",
    "end = 2021\n",
    "arr = polyjc\n",
    "num = 10\n",
    "\n",
    "printWeightiestSentences(filepath, header, uni, start, end, arr, num, simplifiedInfoSys)"
   ]
  },
  {
   "cell_type": "code",
   "execution_count": 15,
   "metadata": {},
   "outputs": [
    {
     "output_type": "stream",
     "name": "stdout",
     "text": "interview\nsmu\ninformation systems\nis\nDiscretionary\naptitude\nDiscovery day\ncomputer science\ncomputer\ndirect admission\nSalary\nScholarships\nDiscretionary\nTechnical\nDirect Admission\nDiscovery Day\nInteraction Day\nPersonal Statement\nScholarship Programmes\nEasiest to enter\nExemptions\nSMU Core Modules\nIntuitive\nNo Hostel life\nNo Student life\ncareer prospect\ndifficulty\n"
    }
   ],
   "source": [
    "# sentiments\n",
    "for k in keywords:\n",
    "    filepath = \"./output/tempWeightedSentences(1).csv\"\n",
    "    header = \"year,uni,search term,sentence,tfidf value\\n\"\n",
    "    uni = \"Singapore Management University|smu\"\n",
    "    start = 2014\n",
    "    end = 2021\n",
    "    searchTerms = [k]\n",
    "    num = 10"
   ]
  },
  {
   "cell_type": "code",
   "execution_count": null,
   "metadata": {},
   "outputs": [],
   "source": []
  }
 ]
}