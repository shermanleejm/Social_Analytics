{
 "nbformat": 4,
 "nbformat_minor": 2,
 "metadata": {
  "language_info": {
   "name": "python",
   "codemirror_mode": {
    "name": "ipython",
    "version": 3
   },
   "version": "3.7.3-final"
  },
  "orig_nbformat": 2,
  "file_extension": ".py",
  "mimetype": "text/x-python",
  "name": "python",
  "npconvert_exporter": "python",
  "pygments_lexer": "ipython3",
  "version": 3,
  "kernelspec": {
   "name": "python37364bitf7dc2741bafe4a9b89002a7641fa85c3",
   "display_name": "Python 3.7.3 64-bit"
  }
 },
 "cells": [
  {
   "cell_type": "code",
   "execution_count": 1,
   "metadata": {},
   "outputs": [],
   "source": [
    "import pandas as pd \n",
    "import json\n",
    "import numpy as np \n",
    "import matplotlib.pyplot as plt \n",
    "from vaderSentiment.vaderSentiment import SentimentIntensityAnalyzer"
   ]
  },
  {
   "cell_type": "code",
   "execution_count": 62,
   "metadata": {},
   "outputs": [
    {
     "output_type": "stream",
     "name": "stdout",
     "text": "<class 'pandas.core.frame.DataFrame'>\nInt64Index: 42724 entries, 0 to 42487\nData columns (total 3 columns):\n #   Column     Non-Null Count  Dtype \n---  ------     --------------  ----- \n 0   name       42724 non-null  object\n 1   message    42724 non-null  object\n 2   timestamp  42724 non-null  object\ndtypes: object(3)\nmemory usage: 1.3+ MB\n"
    }
   ],
   "source": [
    "df = pd.read_json(\"./data/data70.json\")\n",
    "df1 = pd.read_json(\"./data/data71.json\")\n",
    "\n",
    "df = pd.concat([df, df1])\n",
    "df.info()"
   ]
  },
  {
   "cell_type": "code",
   "execution_count": 48,
   "metadata": {},
   "outputs": [
    {
     "output_type": "execute_result",
     "data": {
      "text/plain": "'\\nThe Positive, Negative and Neutral scores represent the proportion of text that falls in these categories. \\nThis means our sentence was rated as 67% Positive, 33% Neutral and 0% Negative. Hence all these should add up to 1.\\nThe Compound score is a metric that calculates the sum of all the lexicon ratings \\nwhich have been normalized between -1(most extreme negative) and +1 (most extreme positive).\\n'"
     },
     "metadata": {},
     "execution_count": 48
    }
   ],
   "source": [
    "universities = [\n",
    "    \"Singapore Management University|smu\",\n",
    "    \"nanyang technological university|ntu\",\n",
    "    \"National University of Singapore|nus\",\n",
    "    \"Singapore University of Technology and Design|sutd\"\n",
    "]\n",
    "\n",
    "infoSys = \"information systems|it|information technology|data analytics|computer science|com|computer|info systems|info sys\"\n",
    "simplifiedInfoSys = \"computer|com|infosys|information systems|analytics\"\n",
    "simplifiedJC = \"rank|a-level|a level|\"\n",
    "\n",
    "polyjc = []\n",
    "with open(\"./data/polyjc.txt\", \"r\") as f:\n",
    "    for line in f:\n",
    "        polyjc.append(line.strip()) \n",
    "\n",
    "def getScore(sentence): # return dict, e.g. --> {'neg': 0.0, 'neu': 0.326, 'pos': 0.674, 'compound': 0.7351}\n",
    "    analyser = SentimentIntensityAnalyzer()\n",
    "    return analyser.polarity_scores(sentence)\n",
    "\n",
    "def writeFile(filepath, header, uni, startYear, endYear, queryRegexArray, domain=\" \"):\n",
    "    df = pd.read_json(\"./data/data70.json\")\n",
    "    df1 = pd.read_json(\"./data/data71.json\")\n",
    "    df = pd.concat([df, df1])\n",
    "\n",
    "    f = open(filepath, \"w+\")\n",
    "    f.write(header)\n",
    "    for year in range(startYear, endYear + 1):\n",
    "        yearStr = str(year)\n",
    "        for term in queryRegexArray:\n",
    "            listOfComments = df[ df[\"message\"].str.contains(term, case=False) & df[\"message\"].str.contains(uni, case=False) & df[\"timestamp\"].str.contains(str(year)) & df[\"message\"].str.contains(domain, case=False) ][\"message\"].values.tolist()\n",
    "            score = 0\n",
    "            numOfComments = len(listOfComments) \n",
    "            for comment in listOfComments:\n",
    "                score += getScore(comment)[\"compound\"]\n",
    "            overallScore = 0\n",
    "            if numOfComments != 0:\n",
    "                overallScore = score / numOfComments\n",
    "            yearStr += \",\" + str(overallScore)\n",
    "        f.write(yearStr)\n",
    "        f.write(\"\\n\")\n",
    "    f.close()\n",
    "\n",
    "def writeFile2(filepath, header, uni, startYear, endYear, queryRegexArray):\n",
    "    df = pd.read_json(\"./data/data70.json\")\n",
    "    df1 = pd.read_json(\"./data/data71.json\")\n",
    "    df = pd.concat([df, df1])\n",
    "\n",
    "    f = open(filepath, \"w+\")\n",
    "    f.write(header)\n",
    "\n",
    "    for year in range(startYear, endYear + 1):\n",
    "        yearStr = str(year)\n",
    "        for term in queryRegexArray:\n",
    "            listOfComments = df[ df[\"message\"].str.contains(term, case=False) & df[\"message\"].str.contains(uni, case=False) & df[\"timestamp\"].str.contains(str(year))][\"message\"].values.tolist()\n",
    "            score = 0\n",
    "            numOfComments = len(listOfComments) \n",
    "            if numOfComments == 0:\n",
    "                numOfComments = 1\n",
    "            for comment in listOfComments:\n",
    "                score += getScore(comment)[\"compound\"]\n",
    "            overallScore = score / numOfComments\n",
    "            yearStr += \",\" + str(overallScore)\n",
    "        f.write(yearStr)\n",
    "        f.write(\"\\n\")\n",
    "    f.close()\n",
    "\n",
    "'''\n",
    "The Positive, Negative and Neutral scores represent the proportion of text that falls in these categories. \n",
    "This means our sentence was rated as 67% Positive, 33% Neutral and 0% Negative. Hence all these should add up to 1.\n",
    "The Compound score is a metric that calculates the sum of all the lexicon ratings \n",
    "which have been normalized between -1(most extreme negative) and +1 (most extreme positive).\n",
    "'''\n"
   ]
  },
  {
   "cell_type": "code",
   "execution_count": 4,
   "metadata": {},
   "outputs": [
    {
     "output_type": "execute_result",
     "data": {
      "text/plain": "'\\nDiagram of result dataframe\\n+------+--------+--------+-----+------+----\\n| Year |   NP   |   SP   | ... | ACJC | ... \\n+------+--------+--------+-----+------+----\\n| 2014 | 0.9872 | -0.023 | ... | 0.33 | ...\\n'"
     },
     "metadata": {},
     "execution_count": 4
    }
   ],
   "source": [
    "\"\"\"\n",
    "Diagram of result dataframe\n",
    "+------+--------+--------+-----+------+----\n",
    "| Year |   NP   |   SP   | ... | ACJC | ... \n",
    "+------+--------+--------+-----+------+----\n",
    "| 2014 | 0.9872 | -0.023 | ... | 0.33 | ...\n",
    "\"\"\""
   ]
  },
  {
   "cell_type": "code",
   "execution_count": 39,
   "metadata": {},
   "outputs": [],
   "source": [
    "# poly\n",
    "for uni in universities:\n",
    "    uniName = uni.split(\"|\")[-1]\n",
    "    pathname = f\"./output/{uniName} - poly.csv\"\n",
    "    header = \"year\"\n",
    "    schools = []\n",
    "    for sch in polyjc[:5]:\n",
    "        header += \",\" + sch.split(\"|\")[-1]\n",
    "        schools.append(sch)\n",
    "    header += \"\\n\"\n",
    "\n",
    "    writeFile(pathname, header, uni, 2014, 2020, schools, simplifiedInfoSys)"
   ]
  },
  {
   "cell_type": "code",
   "execution_count": 49,
   "metadata": {},
   "outputs": [],
   "source": [
    "#JC\n",
    "for uni in universities:\n",
    "    uniName = uni.split(\"|\")[-1]\n",
    "    pathname = f\"./output/{uniName} - jc.csv\"\n",
    "    header = \"year\"\n",
    "    schools = []\n",
    "    for sch in polyjc[5:]:\n",
    "        header += \",\" + sch.split(\"|\")[-1]\n",
    "        schools.append(sch)\n",
    "    header += \"\\n\"\n",
    "\n",
    "    writeFile2(pathname, header, uni, 2014, 2020, schools)"
   ]
  },
  {
   "cell_type": "code",
   "execution_count": 76,
   "metadata": {},
   "outputs": [],
   "source": [
    "#JC Overall\n",
    "for uni in universities:\n",
    "    uniName = uni.split(\"|\")[-1]\n",
    "    pathname = f\"./output/{uniName} - JC (Overall).csv\"\n",
    "    header = \"year,score\\n\"\n",
    "\n",
    "    writeFile2(pathname, header, uni, 2014, 2020, [\"jc\"])"
   ]
  },
  {
   "cell_type": "code",
   "execution_count": 30,
   "metadata": {},
   "outputs": [],
   "source": [
    "# IS Related Courses - for all uni\n",
    "timents for all uni (IS).csv\", \"w+\")\n",
    "f.write(\"year,smu,ntu,nus,sutd\\n\")\n",
    "\n",
    "for year in range(2014, 2022):\n",
    "    yearStr = str(year)\n",
    "    for uni in universities:\n",
    "        listOfComments = df[ df[\"message\"].str.lower().str.contains(uni) & df[\"timestamp\"].str.contains(str(year)) & df[\"message\"].str.lower().str.contains(infoSys) ][\"message\"].values.tolist()\n",
    "        score = 0\n",
    "        numOfComments = len(listOfComments) \n",
    "        for comment in listOfComments:\n",
    "            score += getScore(comment)[\"compound\"]\n",
    "\n",
    "        if numOfComments == 0:\n",
    "            overallScore = 0\n",
    "        else:\n",
    "            overallScore = score / numOfComments\n",
    "        yearStr += \",\" + str(overallScore)\n",
    "    f.write(yearStr)\n",
    "    f.write(\"\\n\")\n",
    "f.close()"
   ]
  },
  {
   "cell_type": "code",
   "execution_count": 72,
   "metadata": {
    "tags": [
     "outputPrepend"
    ]
   },
   "outputs": [
    {
     "output_type": "stream",
     "name": "stdout",
     "text": "2\n"
    }
   ],
   "source": [
    "listOfComments = df[ df[\"message\"].str.contains(\"jurong\", case=False) & df[\"message\"].str.contains(\"ntu\", case=False) & df[\"timestamp\"].str.contains(str(2018))][\"message\"].values.tolist()\n",
    "print (len(listOfComments))"
   ]
  },
  {
   "cell_type": "code",
   "execution_count": 74,
   "metadata": {},
   "outputs": [
    {
     "output_type": "execute_result",
     "data": {
      "text/plain": "                 name                                            message  \\\n5838     jinglejingle  Hi, was wondering if institutions for the MOE ...   \n5839           IAmZTX  jinglejingle wrote:  Hi, was wondering if inst...   \n12776      marigoldhl  Apollo97 wrote:  Nope, nus dont count mt if ur...   \n13311         wei1995  firezero10 wrote:  Getting into the course is ...   \n15486          hpixxx  Hi, may i just enquire for the NTU matriculati...   \n16575     1blursotong  alleycat96 wrote:  Really sorry for posting ag...   \n16577       photobuff  1blursotong wrote:  Hi! I'm not a poly graduat...   \n16582  Insertnamehere  1blursotong wrote:  Hi! I'm not a poly graduat...   \n31061          Jas786  mpcdude wrote:  Hey have you all heard the off...   \n33658      Username01  Hello everyone Im stuck btwn choosing NUS Sci ...   \n33659        Zabiyaki  Username01 wrote:  Hello everyone Im stuck btw...   \n38926       photobuff  SUTD news on May 18, 2015 source :  click here...   \n\n                       timestamp  \n5838   13-06-2015, 03:13 PM#2486  \n5839   13-06-2015, 05:02 PM#2487  \n12776  11-06-2016, 08:16 PM#8374  \n13311  31-05-2014, 09:19 PM#3059  \n15486   04-06-2017, 09:01 PM#124  \n16575  31-05-2016, 09:32 PM#7703  \n16577  31-05-2016, 09:41 PM#7705  \n16582  31-05-2016, 10:05 PM#7710  \n31061  20-04-2017, 02:35 PM#3964  \n33658  25-04-2016, 03:56 PM#3201  \n33659  25-04-2016, 04:18 PM#3202  \n38926  13-03-2016, 11:23 PM#1434  ",
      "text/html": "<div>\n<style scoped>\n    .dataframe tbody tr th:only-of-type {\n        vertical-align: middle;\n    }\n\n    .dataframe tbody tr th {\n        vertical-align: top;\n    }\n\n    .dataframe thead th {\n        text-align: right;\n    }\n</style>\n<table border=\"1\" class=\"dataframe\">\n  <thead>\n    <tr style=\"text-align: right;\">\n      <th></th>\n      <th>name</th>\n      <th>message</th>\n      <th>timestamp</th>\n    </tr>\n  </thead>\n  <tbody>\n    <tr>\n      <th>5838</th>\n      <td>jinglejingle</td>\n      <td>Hi, was wondering if institutions for the MOE ...</td>\n      <td>13-06-2015, 03:13 PM#2486</td>\n    </tr>\n    <tr>\n      <th>5839</th>\n      <td>IAmZTX</td>\n      <td>jinglejingle wrote:  Hi, was wondering if inst...</td>\n      <td>13-06-2015, 05:02 PM#2487</td>\n    </tr>\n    <tr>\n      <th>12776</th>\n      <td>marigoldhl</td>\n      <td>Apollo97 wrote:  Nope, nus dont count mt if ur...</td>\n      <td>11-06-2016, 08:16 PM#8374</td>\n    </tr>\n    <tr>\n      <th>13311</th>\n      <td>wei1995</td>\n      <td>firezero10 wrote:  Getting into the course is ...</td>\n      <td>31-05-2014, 09:19 PM#3059</td>\n    </tr>\n    <tr>\n      <th>15486</th>\n      <td>hpixxx</td>\n      <td>Hi, may i just enquire for the NTU matriculati...</td>\n      <td>04-06-2017, 09:01 PM#124</td>\n    </tr>\n    <tr>\n      <th>16575</th>\n      <td>1blursotong</td>\n      <td>alleycat96 wrote:  Really sorry for posting ag...</td>\n      <td>31-05-2016, 09:32 PM#7703</td>\n    </tr>\n    <tr>\n      <th>16577</th>\n      <td>photobuff</td>\n      <td>1blursotong wrote:  Hi! I'm not a poly graduat...</td>\n      <td>31-05-2016, 09:41 PM#7705</td>\n    </tr>\n    <tr>\n      <th>16582</th>\n      <td>Insertnamehere</td>\n      <td>1blursotong wrote:  Hi! I'm not a poly graduat...</td>\n      <td>31-05-2016, 10:05 PM#7710</td>\n    </tr>\n    <tr>\n      <th>31061</th>\n      <td>Jas786</td>\n      <td>mpcdude wrote:  Hey have you all heard the off...</td>\n      <td>20-04-2017, 02:35 PM#3964</td>\n    </tr>\n    <tr>\n      <th>33658</th>\n      <td>Username01</td>\n      <td>Hello everyone Im stuck btwn choosing NUS Sci ...</td>\n      <td>25-04-2016, 03:56 PM#3201</td>\n    </tr>\n    <tr>\n      <th>33659</th>\n      <td>Zabiyaki</td>\n      <td>Username01 wrote:  Hello everyone Im stuck btw...</td>\n      <td>25-04-2016, 04:18 PM#3202</td>\n    </tr>\n    <tr>\n      <th>38926</th>\n      <td>photobuff</td>\n      <td>SUTD news on May 18, 2015 source :  click here...</td>\n      <td>13-03-2016, 11:23 PM#1434</td>\n    </tr>\n  </tbody>\n</table>\n</div>"
     },
     "metadata": {},
     "execution_count": 74
    }
   ],
   "source": [
    "df[df[\"message\"].str.contains(\"junior college\", case=False)]"
   ]
  },
  {
   "cell_type": "code",
   "execution_count": null,
   "metadata": {},
   "outputs": [],
   "source": []
  }
 ]
}