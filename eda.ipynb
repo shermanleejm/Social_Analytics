{
 "nbformat": 4,
 "nbformat_minor": 2,
 "metadata": {
  "language_info": {
   "name": "python",
   "codemirror_mode": {
    "name": "ipython",
    "version": 3
   },
   "version": "3.7.3-final"
  },
  "orig_nbformat": 2,
  "file_extension": ".py",
  "mimetype": "text/x-python",
  "name": "python",
  "npconvert_exporter": "python",
  "pygments_lexer": "ipython3",
  "version": 3,
  "kernelspec": {
   "name": "python37364bitf7dc2741bafe4a9b89002a7641fa85c3",
   "display_name": "Python 3.7.3 64-bit"
  }
 },
 "cells": [
  {
   "cell_type": "code",
   "execution_count": 1,
   "metadata": {},
   "outputs": [],
   "source": [
    "import pandas as pd \n",
    "import json\n",
    "import sklearn as skl \n",
    "import matplotlib.pyplot as plt \n",
    ""
   ]
  },
  {
   "cell_type": "code",
   "execution_count": 16,
   "metadata": {},
   "outputs": [
    {
     "output_type": "stream",
     "name": "stdout",
     "text": "hardwarezone\n\n<class 'pandas.core.frame.DataFrame'>\nRangeIndex: 42488 entries, 0 to 42487\nData columns (total 3 columns):\n #   Column     Non-Null Count  Dtype \n---  ------     --------------  ----- \n 0   name       42488 non-null  object\n 1   message    42488 non-null  object\n 2   timestamp  42488 non-null  object\ndtypes: object(3)\nmemory usage: 995.9+ KB\nNone\n\nreddit\n\n<class 'pandas.core.frame.DataFrame'>\nRangeIndex: 39922 entries, 0 to 39921\nData columns (total 3 columns):\n #   Column     Non-Null Count  Dtype         \n---  ------     --------------  -----         \n 0   name       39922 non-null  object        \n 1   message    39922 non-null  object        \n 2   timestamp  39922 non-null  datetime64[ns]\ndtypes: datetime64[ns](1), object(2)\nmemory usage: 935.8+ KB\nNone\n\n<class 'pandas.core.frame.DataFrame'>\nInt64Index: 82410 entries, 0 to 39921\nData columns (total 3 columns):\n #   Column     Non-Null Count  Dtype \n---  ------     --------------  ----- \n 0   name       82410 non-null  object\n 1   message    82410 non-null  object\n 2   timestamp  82410 non-null  object\ndtypes: object(3)\nmemory usage: 2.5+ MB\n"
    }
   ],
   "source": [
    "df_hwz = pd.read_json(\"./data/data71.json\")\n",
    "print (\"hardwarezone\\n\")\n",
    "df_hwz.info()\n",
    "\n",
    "print ()\n",
    "\n",
    "df_reddit = pd.read_json(\"./data/data70.json\")\n",
    "print (\"reddit\\n\")\n",
    "df_reddit.info()\n",
    "\n",
    "print ()\n",
    "\n",
    "df1[\"timestamp\"] = df1[\"timestamp\"].astype(str)\n",
    "df = pd.concat([df_hwz, df_reddit])\n",
    "df.info()"
   ]
  },
  {
   "cell_type": "code",
   "execution_count": 8,
   "metadata": {},
   "outputs": [],
   "source": [
    "universities = [\n",
    "    \"Singapore Management University|smu\",\n",
    "    \"nanyang technological university|ntu\",\n",
    "    \"National University of Singapore|nus\",\n",
    "    \"Singapore University of Technology and Design|sutd\"\n",
    "]\n",
    "\n",
    "keywords = []\n",
    "with open(\"./data/keywords.txt\", \"r\") as f:\n",
    "    for line in f:\n",
    "        keywords.append(line.strip())\n",
    "\n",
    "infoSys = \"information systems|it|information technology|data analytics|computer science|com|computer|info systems|info sys\"\n",
    "simplifiedInfoSys = \"computer|com|infosys|information systems|analytics|smart city\"\n",
    "simplifiedJC = \"rank|a-level|a level|\"\n",
    "\n",
    "poly = []\n",
    "with open(\"./data/poly.txt\", \"r\") as f:\n",
    "    for line in f:\n",
    "        poly.append(line.strip()) \n",
    "\n",
    "lowtier = []\n",
    "with open(\"./data/lowTierJC.txt\", \"r\") as f:\n",
    "    for line in f:\n",
    "        lowtier.append(line.strip()) \n",
    "\n",
    "midtier = []\n",
    "with open(\"./data/midTierJC.txt\", \"r\") as f:\n",
    "    for line in f:\n",
    "        midtier.append(line.strip()) \n",
    "\n",
    "hightier = []\n",
    "with open(\"./data/highTierJC.txt\", \"r\") as f:\n",
    "    for line in f:\n",
    "        hightier.append(line.strip()) "
   ]
  },
  {
   "cell_type": "code",
   "execution_count": 17,
   "metadata": {},
   "outputs": [
    {
     "output_type": "stream",
     "name": "stdout",
     "text": "Singapore Management University|smu\n\n<class 'pandas.core.frame.DataFrame'>\nInt64Index: 7479 entries, 0 to 32998\nData columns (total 3 columns):\n #   Column     Non-Null Count  Dtype \n---  ------     --------------  ----- \n 0   name       7479 non-null   object\n 1   message    7479 non-null   object\n 2   timestamp  7479 non-null   object\ndtypes: object(3)\nmemory usage: 233.7+ KB\n\n\n\nnanyang technological university|ntu\n\n<class 'pandas.core.frame.DataFrame'>\nInt64Index: 13902 entries, 0 to 39757\nData columns (total 3 columns):\n #   Column     Non-Null Count  Dtype \n---  ------     --------------  ----- \n 0   name       13902 non-null  object\n 1   message    13902 non-null  object\n 2   timestamp  13902 non-null  object\ndtypes: object(3)\nmemory usage: 434.4+ KB\n\n\n\nNational University of Singapore|nus\n\n<class 'pandas.core.frame.DataFrame'>\nInt64Index: 10629 entries, 0 to 39882\nData columns (total 3 columns):\n #   Column     Non-Null Count  Dtype \n---  ------     --------------  ----- \n 0   name       10629 non-null  object\n 1   message    10629 non-null  object\n 2   timestamp  10629 non-null  object\ndtypes: object(3)\nmemory usage: 332.2+ KB\n\n\n\nSingapore University of Technology and Design|sutd\n\n<class 'pandas.core.frame.DataFrame'>\nInt64Index: 319 entries, 35 to 39462\nData columns (total 3 columns):\n #   Column     Non-Null Count  Dtype \n---  ------     --------------  ----- \n 0   name       319 non-null    object\n 1   message    319 non-null    object\n 2   timestamp  319 non-null    object\ndtypes: object(3)\nmemory usage: 10.0+ KB\n\n\n\n"
    }
   ],
   "source": [
    "for uniRegex in universities:\n",
    "    print (uniRegex)\n",
    "    print ()\n",
    "    df[df[\"message\"].str.contains(uniRegex, case=False)].info()\n",
    "    print (\"\\n\\n\")"
   ]
  },
  {
   "cell_type": "code",
   "execution_count": null,
   "metadata": {},
   "outputs": [],
   "source": []
  }
 ]
}