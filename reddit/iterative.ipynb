{
 "nbformat": 4,
 "nbformat_minor": 2,
 "metadata": {
  "language_info": {
   "name": "python",
   "codemirror_mode": {
    "name": "ipython",
    "version": 3
   },
   "version": "3.7.3-final"
  },
  "orig_nbformat": 2,
  "file_extension": ".py",
  "mimetype": "text/x-python",
  "name": "python",
  "npconvert_exporter": "python",
  "pygments_lexer": "ipython3",
  "version": 3,
  "kernelspec": {
   "name": "python37364bitf7dc2741bafe4a9b89002a7641fa85c3",
   "display_name": "Python 3.7.3 64-bit"
  }
 },
 "cells": [
  {
   "cell_type": "code",
   "execution_count": 5,
   "metadata": {},
   "outputs": [],
   "source": [
    "import praw \n",
    "import pandas as pd\n",
    "import matplotlib.pyplot as plt \n",
    "import pprint \n",
    "pp = pprint.PrettyPrinter(indent=2)\n",
    "import json\n",
    "import time\n",
    "import datetime\n",
    "\n",
    "reddit = praw.Reddit(\n",
    "    client_id='qB2zYopSCvIXVQ',\n",
    "    client_secret='HS_uLyox1i_ULUlqNiB-rCINduI',\n",
    "    user_agent='social_analytics_scraper',\n",
    "    username='noshiteinstein',\n",
    "    password='Password1!'\n",
    ")\n",
    "\n",
    "posts = [\n",
    "    \"https://www.reddit.com/r/singapore/comments/65w4jb/need_help_with_choosing_between_nus_is_and_smu_sis/\",\n",
    "    \"https://www.reddit.com/r/singapore/comments/b7zj6r/smu_interview/\",\n",
    "    \"https://www.reddit.com/r/singapore/comments/b4v56k/is_it_really_worth_the_4_years_to_obtain_a_degree/\",\n",
    "    \"https://www.reddit.com/r/singapore/comments/b03568/smu_admissions_2019/\",\n",
    "    \"https://www.reddit.com/r/singapore/comments/69qpkf/degree_in_information_systems/\",\n",
    "    \"https://www.reddit.com/r/SGExams/comments/bju38y/uni_how_is_the_culture_and_community_like_in_smu/?utm_source=share&utm_medium=ios_app\",\n",
    "    \"https://www.reddit.com/r/singapore/comments/awfvxk/screwed_up_alevels_looking_for_advice/\",\n",
    "    \"https://www.reddit.com/r/singapore/comments/albo22/current_student_and_alumni_of_smu_what_do_you/\",\n",
    "    \"https://www.reddit.com/r/singapore/comments/83dh8h/anyone_willing_to_shed_some_light_on_nussmu/\",\n",
    "    \"https://www.reddit.com/r/singapore/comments/8er108/what_are_your_views_about_smu/\"\n",
    "]\n",
    "\n",
    "result = {\n",
    "    \"name\" : [],\n",
    "    \"message\" : [],\n",
    "    \"timestamp\" : [],\n",
    "}\n",
    "\n",
    "subreddit = reddit.subreddit('singapore')\n",
    "\n",
    "for submission in subreddit.new(limit=None):\n",
    "    submission.comments.replace_more(limit=None)\n",
    "    comment_queue = submission.comments[:]  # Seed with top-level\n",
    "    while comment_queue:\n",
    "        comment = comment_queue.pop(0)\n",
    "        result[\"name\"].append(str(comment.author))\n",
    "        result[\"message\"].append(str(comment.body).replace(\"\\n\", \" \"))\n",
    "        timestamp = datetime.datetime.fromtimestamp(int(comment.created_utc)).strftime('%Y-%m-%d %H:%M:%S.%f')\n",
    "        result[\"timestamp\"].append(timestamp)\n",
    "        comment_queue.extend(comment.replies)\n",
    "\n",
    "\n",
    "# for url in posts:\n",
    "#     urlid = url.split(\"/\")[6]\n",
    "#     submission = reddit.submission(urlid)\n",
    "#     submission.comments.replace_more(limit=None)\n",
    "#     comment_queue = submission.comments[:]  # Seed with top-level\n",
    "#     while comment_queue:\n",
    "#         comment = comment_queue.pop(0)\n",
    "#         result[\"name\"].append(str(comment.author))\n",
    "#         result[\"message\"].append(str(comment.body))\n",
    "#         timestamp = datetime.datetime.fromtimestamp(int(comment.created_utc)).strftime('%Y-%m-%d %H:%M:%S.%f')\n",
    "#         result[\"timestamp\"].append(timestamp)\n",
    "#         comment_queue.extend(comment.replies)\n"
   ]
  },
  {
   "cell_type": "code",
   "execution_count": 6,
   "metadata": {
    "tags": [
     "outputPrepend"
    ]
   },
   "outputs": [],
   "source": [
    "df = pd.DataFrame.from_dict(result)\n",
    "j = df.to_json(orient=\"records\")\n",
    "j_obj = json.loads(j)\n",
    "with open(\"../data/data70.json\", \"w+\") as f:\n",
    "    json.dump(j_obj, f, indent=2)"
   ]
  },
  {
   "cell_type": "code",
   "execution_count": null,
   "metadata": {},
   "outputs": [],
   "source": []
  }
 ]
}