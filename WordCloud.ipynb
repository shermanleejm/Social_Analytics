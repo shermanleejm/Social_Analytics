{
 "cells": [
  {
   "cell_type": "code",
   "execution_count": 1,
   "metadata": {},
   "outputs": [],
   "source": [
    "import json\n",
    "from nltk.tokenize import sent_tokenize, word_tokenize, RegexpTokenizer\n",
    "from nltk.corpus import stopwords\n",
    "from nltk.stem import PorterStemmer\n",
    "from wordcloud import WordCloud\n",
    "import matplotlib.pyplot as plt\n",
    "from nltk.probability import FreqDist\n",
    "import nltk\n",
    "import pandas as pd\n",
    "import numpy as np\n",
    "\n",
    "# json1_file = open('hwzScraper\\hwzScraper\\data69.json')\n",
    "# json1_str = json1_file.read()\n",
    "# text = json.loads(json1_str)\n",
    "df = pd.read_json('hwzScraper\\hwzScraper\\data69.json')"
   ]
  },
  {
   "cell_type": "code",
   "execution_count": 2,
   "metadata": {},
   "outputs": [
    {
     "data": {
      "text/plain": [
       "40773"
      ]
     },
     "execution_count": 2,
     "metadata": {},
     "output_type": "execute_result"
    }
   ],
   "source": [
    "# extract data by year\n",
    "dataset_2014 = df[df['timestamp'].str.contains('2019')]\n",
    "\n",
    "dataset_msg = df['message']\n",
    "dataset_msg.count()\n"
   ]
  },
  {
   "cell_type": "code",
   "execution_count": 3,
   "metadata": {},
   "outputs": [
    {
     "name": "stdout",
     "output_type": "stream",
     "text": [
      "40773\n"
     ]
    }
   ],
   "source": [
    "words = []\n",
    "\n",
    "tokenizer = RegexpTokenizer(r'\\w+')\n",
    "\n",
    "for msg in dataset_msg:\n",
    "    words.append(tokenizer.tokenize(str(msg)))\n",
    "\n",
    "# How many words are in this news article?\n",
    "print (len(words))"
   ]
  },
  {
   "cell_type": "code",
   "execution_count": 4,
   "metadata": {},
   "outputs": [
    {
     "name": "stdout",
     "output_type": "stream",
     "text": [
      "40773\n"
     ]
    }
   ],
   "source": [
    "words = []\n",
    "\n",
    "tokenizer = RegexpTokenizer(r'\\w+')\n",
    "\n",
    "for msg in dataset_msg:\n",
    "    words.append(tokenizer.tokenize(str(msg)))\n",
    "\n",
    "print (len(words))"
   ]
  },
  {
   "cell_type": "code",
   "execution_count": 5,
   "metadata": {},
   "outputs": [
    {
     "name": "stdout",
     "output_type": "stream",
     "text": [
      "[nltk_data] Downloading package stopwords to\n",
      "[nltk_data]     C:\\Users\\huiqi\\AppData\\Roaming\\nltk_data...\n",
      "[nltk_data]   Package stopwords is already up-to-date!\n"
     ]
    }
   ],
   "source": [
    "nltk.download('stopwords')\n",
    "\n",
    "stop_words = stopwords.words('english')\n",
    "stop_words.append('https')\n",
    "stop_words.append('image')\n",
    "stop_words.append('uni')\n",
    "stop_words.append('gpa')\n",
    "stop_words.append('apply')\n",
    "stop_words.append('ntu')\n",
    "stop_words.append('smu')\n",
    "stop_words.append('applied')\n",
    "stop_words.append('nus')\n",
    "stop_words.append('hi')\n",
    "stop_words.append('1')\n",
    "stop_words.append('2')\n",
    "stop_words.append('3')\n",
    "stop_words.append('wrote')\n",
    "stop_words.append('u')\n",
    "stop_words.append('also')\n",
    "stop_words.append('would')\n",
    "stop_words.append('yet')\n",
    "stop_words.append('anyone')\n",
    "stop_words.append('5')\n",
    "stop_words.append('one')\n",
    "stop_words.append('may')\n",
    "stop_words.append('using')\n",
    "stop_words.append('thanks')\n",
    "stop_words.append('sure')\n",
    "stop_words.append('years')\n",
    "stop_words.append('4')\n",
    "stop_words.append('want')\n",
    "stop_words.append('went')\n",
    "stop_words.append('need')\n",
    "stop_words.append('since')\n",
    "stop_words.append('school')\n",
    "stop_words.append('good')\n",
    "stop_words.append('even')\n",
    "stop_words.append('courses')\n",
    "stop_words.append('much')\n",
    "stop_words.append('already')\n",
    "stop_words.append('really')\n",
    "stop_words.append('next')\n",
    "stop_words.append('guys')\n",
    "stop_words.append('see')\n",
    "stop_words.append('level')\n",
    "stop_words.append('take')\n",
    "stop_words.append('time')\n",
    "stop_words.append('people')\n",
    "stop_words.append('rp')\n",
    "stop_words.append('ur')\n",
    "stop_words.append('though')\n",
    "stop_words.append('haha')\n",
    "stop_words.append('right')\n",
    "stop_words.append('student')\n",
    "stop_words.append('yeah')\n",
    "stop_words.append('hahaha')\n",
    "stop_words.append('e')\n",
    "stop_words.append('hardwarezone')\n",
    "stop_words.append('forums')\n",
    "stop_words.append('com')\n",
    "stop_words.append('corn')\n",
    "stop_words.append('oneplus')\n",
    "stop_words.append('A6000')\n",
    "stop_words.append('pcwx')\n",
    "stop_words.append('sent')\n",
    "stop_words.append('redmi')\n",
    "stop_words.append('app')\n",
    "stop_words.append('samsung')\n",
    "stop_words.append('sm')\n",
    "stop_words.append('n920i')\n",
    "stop_words.append('xiaomi')\n",
    "stop_words.append('note')\n",
    "stop_words.append('gagt')\n",
    "stop_words.append('www')\n",
    "stop_words.append('edu')\n",
    "stop_words.append('http')\n",
    "stop_words.append('sg')\n",
    "stop_words.append('think')"
   ]
  },
  {
   "cell_type": "code",
   "execution_count": 6,
   "metadata": {},
   "outputs": [],
   "source": [
    "words_filtered = []\n",
    "\n",
    "for w in words:\n",
    "    for i in w:\n",
    "        if i.lower() not in stop_words:\n",
    "            words_filtered.append(i)\n",
    "\n",
    "# After removing stop words, how many words remain?\n",
    "# print (len(words_filtered))"
   ]
  },
  {
   "cell_type": "code",
   "execution_count": 7,
   "metadata": {},
   "outputs": [],
   "source": [
    "fdist = FreqDist(words_filtered)\n",
    "# print(fdist)"
   ]
  },
  {
   "cell_type": "code",
   "execution_count": 8,
   "metadata": {
    "scrolled": false
   },
   "outputs": [
    {
     "data": {
      "text/plain": [
       "[('interview', 13041),\n",
       " ('got', 11109),\n",
       " ('get', 8570),\n",
       " ('offer', 8132),\n",
       " ('course', 7845),\n",
       " ('still', 7225),\n",
       " ('appeal', 7175),\n",
       " ('year', 7051),\n",
       " ('know', 6889),\n",
       " ('like', 5834),\n",
       " ('first', 5195),\n",
       " ('choice', 5101),\n",
       " ('go', 4588),\n",
       " ('received', 4399),\n",
       " ('rejected', 4231),\n",
       " ('application', 4215),\n",
       " ('poly', 4091),\n",
       " ('accepted', 3608),\n",
       " ('well', 3584),\n",
       " ('offered', 3485),\n",
       " ('chance', 3474),\n",
       " ('email', 3331),\n",
       " ('last', 3256),\n",
       " ('waiting', 3165),\n",
       " ('students', 2898),\n",
       " ('DA', 2868),\n",
       " ('going', 2780),\n",
       " ('results', 2751),\n",
       " ('news', 2615),\n",
       " ('ask', 2514),\n",
       " ('receive', 2508),\n",
       " ('friend', 2413),\n",
       " ('admission', 2348),\n",
       " ('biz', 2261),\n",
       " ('hope', 2248),\n",
       " ('best', 2226),\n",
       " ('offers', 2208),\n",
       " ('engineering', 2203),\n",
       " ('business', 2195),\n",
       " ('accept', 2149),\n",
       " ('FASS', 2144),\n",
       " ('getting', 2113),\n",
       " ('quite', 2110),\n",
       " ('chances', 1999),\n",
       " ('acceptance', 1995),\n",
       " ('science', 1915),\n",
       " ('window', 1905),\n",
       " ('better', 1890),\n",
       " ('say', 1888),\n",
       " ('second', 1884)]"
      ]
     },
     "execution_count": 8,
     "metadata": {},
     "output_type": "execute_result"
    }
   ],
   "source": [
    "fdist.most_common(50)"
   ]
  },
  {
   "cell_type": "code",
   "execution_count": 9,
   "metadata": {},
   "outputs": [
    {
     "name": "stdout",
     "output_type": "stream",
     "text": [
      "smu\n",
      "admiss\n",
      "accept\n"
     ]
    }
   ],
   "source": [
    "porter_stemmer = PorterStemmer()\n",
    "\n",
    "# Let's test out this stemmer.\n",
    "some_words = [\"SMU\", \"Admission\", \"acceptance\"]\n",
    "for w in some_words:\n",
    "    print (porter_stemmer.stem(w))\n",
    "\n",
    "# Let's stem all the words in our news article.\n",
    "words_filtered_stemmed = []\n",
    "for w in words_filtered:\n",
    "    words_filtered_stemmed.append(porter_stemmer.stem(w))\n",
    "\n",
    "# print (len(words_filtered_stemmed))"
   ]
  },
  {
   "cell_type": "code",
   "execution_count": 10,
   "metadata": {},
   "outputs": [
    {
     "data": {
      "image/png": "[encoded data removed]",
      "text/plain": [
       "<Figure size 432x288 with 1 Axes>"
      ]
     },
     "metadata": {},
     "output_type": "display_data"
    },
    {
     "data": {
      "text/plain": [
       "<wordcloud.wordcloud.WordCloud at 0x1db7189d470>"
      ]
     },
     "execution_count": 10,
     "metadata": {},
     "output_type": "execute_result"
    }
   ],
   "source": [
    "words_joined = \" \".join([w for w in words_filtered_stemmed])\n",
    "\n",
    "# Create a word cloud\n",
    "my_wordcloud = WordCloud(background_color='white',\n",
    "                         width=1800,\n",
    "                         height=1400).generate(words_joined)\n",
    "# plt.savefig('virusWordCloud.png', dpi=300)\n",
    "plt.imshow(my_wordcloud)\n",
    "plt.axis('off')\n",
    "plt.show()\n",
    "my_wordcloud.to_file('wordcloud_2019.png')"
   ]
  },
  {
   "cell_type": "code",
   "execution_count": null,
   "metadata": {},
   "outputs": [],
   "source": []
  }
 ],
 "metadata": {
  "kernelspec": {
   "display_name": "Python 3",
   "language": "python",
   "name": "python3"
  },
  "language_info": {
   "codemirror_mode": {
    "name": "ipython",
    "version": 3
   },
   "file_extension": ".py",
   "mimetype": "text/x-python",
   "name": "python",
   "nbconvert_exporter": "python",
   "pygments_lexer": "ipython3",
   "version": "3.6.5"
  }
 },
 "nbformat": 4,
 "nbformat_minor": 2
}
